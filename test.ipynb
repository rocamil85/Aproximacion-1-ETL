
{
 "cells": [
  {
   "cell_type": "markdown",
   "metadata": {},
   "source": [
    "# Ejemplo de Jupyter Notebook",
    "\n",
    "Este es un **párrafo en negrita**. Aquí hay un poco más de texto con _texto en cursiva_.",
    "\n\n",
    "## Listas en Markdown",
    "\n",
    "### Lista numerada",
    "1. Primer elemento",
    "2. Segundo elemento",
    "3. Tercer elemento",
    "\n",
    "### Lista no numerada",
    "- Un elemento",
    "- Otro elemento",
    "\n",
    "## Texto con colores",
    "\n",
    "Este es un texto con color: <span style='color: blue;'>Texto en azul</span>."
   ]
  }
 ],
 "metadata": {
  "kernelspec": {
   "display_name": "Python 3",
   "language": "python",
   "name": "python3"
  },
  "language_info": {
   "codemirror_mode": {
    "name": "ipython",
    "version": 3
   },
   "file_extension": ".py",
   "mimetype": "text/x-python",
   "name": "python",
   "nbconvert_exporter": "python",
   "pygments_lexer": "ipython3",
   "version": "3.8.5"
  }
 },
 "nbformat": 4,
 "nbformat_minor": 2
}
